{
 "cells": [
  {
   "cell_type": "code",
   "execution_count": 38,
   "id": "statewide-attachment",
   "metadata": {},
   "outputs": [],
   "source": [
    "import bs4\n",
    "import pandas as pd\n",
    "from selenium import webdriver\n",
    "import time"
   ]
  },
  {
   "cell_type": "code",
   "execution_count": 39,
   "id": "worldwide-direction",
   "metadata": {},
   "outputs": [],
   "source": [
    "import matplotlib as plt\n",
    "import numpy as np"
   ]
  },
  {
   "cell_type": "code",
   "execution_count": 48,
   "id": "copyrighted-giant",
   "metadata": {},
   "outputs": [],
   "source": [
    "my_driver = webdriver.Chrome('chromedriver.exe')"
   ]
  },
  {
   "cell_type": "code",
   "execution_count": 49,
   "id": "frequent-multimedia",
   "metadata": {},
   "outputs": [],
   "source": [
    "my_url = \"https://everytime.kr/\"\n",
    "my_driver.get(my_url)"
   ]
  },
  {
   "cell_type": "code",
   "execution_count": null,
   "id": "compound-melbourne",
   "metadata": {},
   "outputs": [],
   "source": []
  },
  {
   "cell_type": "code",
   "execution_count": 50,
   "id": "handy-crazy",
   "metadata": {},
   "outputs": [],
   "source": [
    "# 로그인을 위한 아이디와 비밀번호 객체 만들어두기\n",
    "\n",
    "id = ####\n",
    "pw = ####"
   ]
  },
  {
   "cell_type": "code",
   "execution_count": 51,
   "id": "metropolitan-uncertainty",
   "metadata": {},
   "outputs": [],
   "source": [
    "# 로그인 버튼 클릭 후 로그인 진행\n",
    "\n",
    "login_button = my_driver.find_element_by_class_name(\"button.login\")\n",
    "login_button.click()\n",
    "\n",
    "id_input = my_driver.find_element_by_name(\"userid\")\n",
    "pw_input = my_driver.find_element_by_name(\"password\")\n",
    "submit_button = my_driver.find_element_by_css_selector(\"p.submit\")\n",
    "\n",
    "id_input.send_keys(id)\n",
    "time.sleep(1)\n",
    "pw_input.send_keys(pw)\n",
    "time.sleep(1)\n",
    "submit_button.click()"
   ]
  },
  {
   "cell_type": "code",
   "execution_count": 52,
   "id": "representative-dayton",
   "metadata": {},
   "outputs": [],
   "source": [
    "# 핫게시판으로 이동\n",
    "\n",
    "\n",
    "my_driver.get(\"https://everytime.kr/hotarticle\")"
   ]
  },
  {
   "cell_type": "code",
   "execution_count": 53,
   "id": "caring-tourism",
   "metadata": {},
   "outputs": [],
   "source": [
    "# 글의 어떤 요소들을 가져와야 하는가? \n",
    "# 날짜, 제목, 내용, 게시판종류, 좋아요수, 댓글수, 스크랩수 "
   ]
  },
  {
   "cell_type": "code",
   "execution_count": 54,
   "id": "adaptive-england",
   "metadata": {},
   "outputs": [],
   "source": [
    "# 테스트로 첫 번째 게시물에 들어가 필요한 부분들을 가져와본다.\n",
    "\n",
    "# 접속한 링크의 html - bs4를 통한 parsing\n",
    "\n",
    "my_html = my_driver.page_source\n",
    "soup = bs4.BeautifulSoup(my_html, 'html.parser')\n",
    "\n",
    "# 첫 번째 게시물 링크 접속 \n",
    "article_href = soup.select_one('a.article')['href']\n",
    "my_driver.get(\"https://everytime.kr\" + article_href)\n",
    "\n",
    "my_html = my_driver.page_source\n",
    "soup = bs4.BeautifulSoup(my_html, 'html.parser')"
   ]
  },
  {
   "cell_type": "code",
   "execution_count": 55,
   "id": "collaborative-communist",
   "metadata": {},
   "outputs": [
    {
     "ename": "AttributeError",
     "evalue": "'NoneType' object has no attribute 'text'",
     "output_type": "error",
     "traceback": [
      "\u001b[1;31m---------------------------------------------------------------------------\u001b[0m",
      "\u001b[1;31mAttributeError\u001b[0m                            Traceback (most recent call last)",
      "\u001b[1;32m<ipython-input-55-6dfbb93142ad>\u001b[0m in \u001b[0;36m<module>\u001b[1;34m\u001b[0m\n\u001b[0;32m      1\u001b[0m \u001b[1;31m# 필요한 정보들 가져와보기\u001b[0m\u001b[1;33m\u001b[0m\u001b[1;33m\u001b[0m\u001b[1;33m\u001b[0m\u001b[0m\n\u001b[0;32m      2\u001b[0m \u001b[1;33m\u001b[0m\u001b[0m\n\u001b[1;32m----> 3\u001b[1;33m \u001b[0mtitle\u001b[0m \u001b[1;33m=\u001b[0m \u001b[0msoup\u001b[0m\u001b[1;33m.\u001b[0m\u001b[0mfind\u001b[0m\u001b[1;33m(\u001b[0m\u001b[1;34m\"h2\"\u001b[0m\u001b[1;33m)\u001b[0m\u001b[1;33m.\u001b[0m\u001b[0mtext\u001b[0m\u001b[1;33m\u001b[0m\u001b[1;33m\u001b[0m\u001b[0m\n\u001b[0m\u001b[0;32m      4\u001b[0m \u001b[0mcontent\u001b[0m \u001b[1;33m=\u001b[0m \u001b[0msoup\u001b[0m\u001b[1;33m.\u001b[0m\u001b[0mselect_one\u001b[0m\u001b[1;33m(\u001b[0m\u001b[1;34m'p.large'\u001b[0m\u001b[1;33m)\u001b[0m\u001b[1;33m.\u001b[0m\u001b[0mtext\u001b[0m\u001b[1;33m\u001b[0m\u001b[1;33m\u001b[0m\u001b[0m\n\u001b[0;32m      5\u001b[0m \u001b[0msort\u001b[0m \u001b[1;33m=\u001b[0m \u001b[0msoup\u001b[0m\u001b[1;33m.\u001b[0m\u001b[0mselect_one\u001b[0m\u001b[1;33m(\u001b[0m\u001b[1;34m'h1 a'\u001b[0m\u001b[1;33m)\u001b[0m\u001b[1;33m.\u001b[0m\u001b[0mtext\u001b[0m\u001b[1;33m\u001b[0m\u001b[1;33m\u001b[0m\u001b[0m\n",
      "\u001b[1;31mAttributeError\u001b[0m: 'NoneType' object has no attribute 'text'"
     ]
    }
   ],
   "source": [
    "# 필요한 정보들 가져와보기\n",
    "\n",
    "title = soup.find(\"h2\").text\n",
    "content = soup.select_one('p.large').text\n",
    "sort = soup.select_one('h1 a').text\n",
    "votes = soup.select_one('.vote').text\n",
    "comments = soup.select_one('.comment').text\n",
    "time = soup.select_one('time').text\n",
    "\n",
    "list = [time, title, content, sort, votes, comments]"
   ]
  },
  {
   "cell_type": "code",
   "execution_count": 21,
   "id": "cardiovascular-thong",
   "metadata": {},
   "outputs": [
    {
     "data": {
      "text/plain": [
       "list"
      ]
     },
     "execution_count": 21,
     "metadata": {},
     "output_type": "execute_result"
    }
   ],
   "source": [
    "list"
   ]
  },
  {
   "cell_type": "code",
   "execution_count": 63,
   "id": "portuguese-direction",
   "metadata": {},
   "outputs": [],
   "source": [
    "df = pd.DataFrame(np.reshape(list,[1, 6]), columns=['time', 'title', 'content', 'sort', 'votes', 'comments'])"
   ]
  },
  {
   "cell_type": "code",
   "execution_count": 75,
   "id": "potential-attachment",
   "metadata": {},
   "outputs": [
    {
     "data": {
      "text/html": [
       "<div>\n",
       "<style scoped>\n",
       "    .dataframe tbody tr th:only-of-type {\n",
       "        vertical-align: middle;\n",
       "    }\n",
       "\n",
       "    .dataframe tbody tr th {\n",
       "        vertical-align: top;\n",
       "    }\n",
       "\n",
       "    .dataframe thead th {\n",
       "        text-align: right;\n",
       "    }\n",
       "</style>\n",
       "<table border=\"1\" class=\"dataframe\">\n",
       "  <thead>\n",
       "    <tr style=\"text-align: right;\">\n",
       "      <th></th>\n",
       "      <th>time</th>\n",
       "      <th>title</th>\n",
       "      <th>content</th>\n",
       "      <th>sort</th>\n",
       "      <th>votes</th>\n",
       "      <th>comments</th>\n",
       "    </tr>\n",
       "  </thead>\n",
       "  <tbody>\n",
       "    <tr>\n",
       "      <th>0</th>\n",
       "      <td>26분 전</td>\n",
       "      <td>중간고사 공부해야하는데</td>\n",
       "      <td>이 한가로움을 즐기고시퍼</td>\n",
       "      <td>서울캠 자유게시판</td>\n",
       "      <td>12</td>\n",
       "      <td>2</td>\n",
       "    </tr>\n",
       "  </tbody>\n",
       "</table>\n",
       "</div>"
      ],
      "text/plain": [
       "    time         title        content       sort votes comments\n",
       "0  26분 전  중간고사 공부해야하는데  이 한가로움을 즐기고시퍼  서울캠 자유게시판    12        2"
      ]
     },
     "execution_count": 75,
     "metadata": {},
     "output_type": "execute_result"
    }
   ],
   "source": [
    "df"
   ]
  },
  {
   "cell_type": "code",
   "execution_count": 77,
   "id": "amended-spring",
   "metadata": {},
   "outputs": [],
   "source": [
    "list_s = pd.Series(list, index = df.columns)"
   ]
  },
  {
   "cell_type": "code",
   "execution_count": 79,
   "id": "concrete-wright",
   "metadata": {},
   "outputs": [
    {
     "data": {
      "text/html": [
       "<div>\n",
       "<style scoped>\n",
       "    .dataframe tbody tr th:only-of-type {\n",
       "        vertical-align: middle;\n",
       "    }\n",
       "\n",
       "    .dataframe tbody tr th {\n",
       "        vertical-align: top;\n",
       "    }\n",
       "\n",
       "    .dataframe thead th {\n",
       "        text-align: right;\n",
       "    }\n",
       "</style>\n",
       "<table border=\"1\" class=\"dataframe\">\n",
       "  <thead>\n",
       "    <tr style=\"text-align: right;\">\n",
       "      <th></th>\n",
       "      <th>time</th>\n",
       "      <th>title</th>\n",
       "      <th>content</th>\n",
       "      <th>sort</th>\n",
       "      <th>votes</th>\n",
       "      <th>comments</th>\n",
       "    </tr>\n",
       "  </thead>\n",
       "  <tbody>\n",
       "    <tr>\n",
       "      <th>0</th>\n",
       "      <td>26분 전</td>\n",
       "      <td>중간고사 공부해야하는데</td>\n",
       "      <td>이 한가로움을 즐기고시퍼</td>\n",
       "      <td>서울캠 자유게시판</td>\n",
       "      <td>12</td>\n",
       "      <td>2</td>\n",
       "    </tr>\n",
       "    <tr>\n",
       "      <th>1</th>\n",
       "      <td>26분 전</td>\n",
       "      <td>중간고사 공부해야하는데</td>\n",
       "      <td>이 한가로움을 즐기고시퍼</td>\n",
       "      <td>서울캠 자유게시판</td>\n",
       "      <td>12</td>\n",
       "      <td>2</td>\n",
       "    </tr>\n",
       "  </tbody>\n",
       "</table>\n",
       "</div>"
      ],
      "text/plain": [
       "    time         title        content       sort votes comments\n",
       "0  26분 전  중간고사 공부해야하는데  이 한가로움을 즐기고시퍼  서울캠 자유게시판    12        2\n",
       "1  26분 전  중간고사 공부해야하는데  이 한가로움을 즐기고시퍼  서울캠 자유게시판    12        2"
      ]
     },
     "execution_count": 79,
     "metadata": {},
     "output_type": "execute_result"
    }
   ],
   "source": [
    "df.append(list_s, ignore_index=True)"
   ]
  },
  {
   "cell_type": "code",
   "execution_count": null,
   "id": "afraid-injury",
   "metadata": {},
   "outputs": [],
   "source": [
    "# https://everytime.kr/hotarticle/p/2"
   ]
  },
  {
   "cell_type": "code",
   "execution_count": 87,
   "id": "impressed-dinner",
   "metadata": {},
   "outputs": [
    {
     "ename": "KeyError",
     "evalue": "'href'",
     "output_type": "error",
     "traceback": [
      "\u001b[1;31m---------------------------------------------------------------------------\u001b[0m",
      "\u001b[1;31mKeyError\u001b[0m                                  Traceback (most recent call last)",
      "\u001b[1;32m<ipython-input-87-250a4eb09dbd>\u001b[0m in \u001b[0;36m<module>\u001b[1;34m\u001b[0m\n\u001b[0;32m      2\u001b[0m \u001b[1;31m# 우선 한 페이지의 모든 게시글에 대한 정보를 가져와야 함\u001b[0m\u001b[1;33m\u001b[0m\u001b[1;33m\u001b[0m\u001b[1;33m\u001b[0m\u001b[0m\n\u001b[0;32m      3\u001b[0m \u001b[1;33m\u001b[0m\u001b[0m\n\u001b[1;32m----> 4\u001b[1;33m \u001b[0msoup\u001b[0m\u001b[1;33m.\u001b[0m\u001b[0mselect_one\u001b[0m\u001b[1;33m(\u001b[0m\u001b[1;34m'a.article'\u001b[0m\u001b[1;33m)\u001b[0m\u001b[1;33m[\u001b[0m\u001b[1;34m'href'\u001b[0m\u001b[1;33m]\u001b[0m\u001b[1;33m\u001b[0m\u001b[1;33m\u001b[0m\u001b[0m\n\u001b[0m",
      "\u001b[1;32m~\\anaconda3\\lib\\site-packages\\bs4\\element.py\u001b[0m in \u001b[0;36m__getitem__\u001b[1;34m(self, key)\u001b[0m\n\u001b[0;32m   1404\u001b[0m         \"\"\"tag[key] returns the value of the 'key' attribute for the Tag,\n\u001b[0;32m   1405\u001b[0m         and throws an exception if it's not there.\"\"\"\n\u001b[1;32m-> 1406\u001b[1;33m         \u001b[1;32mreturn\u001b[0m \u001b[0mself\u001b[0m\u001b[1;33m.\u001b[0m\u001b[0mattrs\u001b[0m\u001b[1;33m[\u001b[0m\u001b[0mkey\u001b[0m\u001b[1;33m]\u001b[0m\u001b[1;33m\u001b[0m\u001b[1;33m\u001b[0m\u001b[0m\n\u001b[0m\u001b[0;32m   1407\u001b[0m \u001b[1;33m\u001b[0m\u001b[0m\n\u001b[0;32m   1408\u001b[0m     \u001b[1;32mdef\u001b[0m \u001b[0m__iter__\u001b[0m\u001b[1;33m(\u001b[0m\u001b[0mself\u001b[0m\u001b[1;33m)\u001b[0m\u001b[1;33m:\u001b[0m\u001b[1;33m\u001b[0m\u001b[1;33m\u001b[0m\u001b[0m\n",
      "\u001b[1;31mKeyError\u001b[0m: 'href'"
     ]
    }
   ],
   "source": [
    "# 위 과정을 함수화시켜서, 페이지별로 실행 가능하게 해보자\n",
    "# 우선 한 페이지의 모든 게시글에 대한 정보를 가져와야 함\n",
    "\n",
    "# 핫게시판으로 이동\n",
    "\n",
    "my_driver.get(\"https://everytime.kr/hotarticle\")\n",
    "\n"
   ]
  },
  {
   "cell_type": "code",
   "execution_count": null,
   "id": "resident-sunglasses",
   "metadata": {},
   "outputs": [],
   "source": []
  }
 ],
 "metadata": {
  "kernelspec": {
   "display_name": "Python 3",
   "language": "python",
   "name": "python3"
  },
  "language_info": {
   "codemirror_mode": {
    "name": "ipython",
    "version": 3
   },
   "file_extension": ".py",
   "mimetype": "text/x-python",
   "name": "python",
   "nbconvert_exporter": "python",
   "pygments_lexer": "ipython3",
   "version": "3.8.5"
  }
 },
 "nbformat": 4,
 "nbformat_minor": 5
}
